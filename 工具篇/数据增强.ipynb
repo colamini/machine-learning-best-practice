{
 "cells": [
  {
   "attachments": {},
   "cell_type": "markdown",
   "metadata": {},
   "source": [
    "# 数据增强\n",
    "\n",
    "> 适用于：样本太少\n",
    "\n",
    "> 方法：旋转、裁切等"
   ]
  },
  {
   "cell_type": "code",
   "execution_count": null,
   "metadata": {},
   "outputs": [],
   "source": [
    "#数据增强\n",
    "from keras.preprocessing.image import ImageDataGenerator\n",
    "path = 'original_data'#图片加强的文件路径\n",
    "dst_path = 'gen_data'\n",
    "datagen = ImageDataGenerator(rotation_range=10,width_shift_range=0.1,height_shift_range=0.02,horizontal_flip=True,\n",
    "                             vertical_flip=True)\n",
    "gen = datagen.flow_from_directory(path,target_size=(224,224),\n",
    "                                 batch_size=2, save_to_dir=dst_path,\n",
    "                                 save_prefix='gen',save_format='jpg')\n",
    "# 生成100张变换后的图片\n",
    "for i in range(100):\n",
    "    gen.next()"
   ]
  }
 ],
 "metadata": {
  "language_info": {
   "name": "python"
  },
  "orig_nbformat": 4
 },
 "nbformat": 4,
 "nbformat_minor": 2
}
