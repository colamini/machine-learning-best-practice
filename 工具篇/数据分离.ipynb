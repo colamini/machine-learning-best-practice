{
 "cells": [
  {
   "attachments": {},
   "cell_type": "markdown",
   "metadata": {},
   "source": [
    "# 数据分离\n",
    "\n",
    "关于数据分离，我们用 `Pytorch` 中的 `Subset` 类来做这件事情。\n",
    "\n",
    "## Subset构造函数\n",
    "\n",
    "Subset是PyTorch中的一个类，它允许您从一个数据集中选择特定的样本子集。您可以使用Subset将一个数据集分为训练集、验证集和测试集等子集。\n",
    "\n",
    "Subset的使用方法很简单，只需要提供一个数据集和要选择的样本的索引列表即可。具体地，Subset的构造函数如下所示"
   ]
  },
  {
   "cell_type": "code",
   "execution_count": null,
   "metadata": {
    "vscode": {
     "languageId": "plaintext"
    }
   },
   "outputs": [],
   "source": [
    "class Subset(torch.utils.data.dataset.Dataset):\n",
    "    def __init__(self, dataset, indices):\n",
    "        self.dataset = dataset\n",
    "        self.indices = indices\n",
    "\n",
    "    def __getitem__(self, idx):\n",
    "        return self.dataset[self.indices[idx]]\n",
    "\n",
    "    def __len__(self):\n",
    "        return len(self.indices)"
   ]
  },
  {
   "attachments": {},
   "cell_type": "markdown",
   "metadata": {},
   "source": [
    "## Subset用法\n",
    "Subset有两个参数：\n",
    "\n",
    "dataset：要选择子集的原始数据集。\n",
    "indices：要选择的样本索引列表。\n",
    "例如，以下代码将数据集my_dataset分为前10个样本和后10个样本的两个子集："
   ]
  },
  {
   "cell_type": "code",
   "execution_count": null,
   "metadata": {
    "vscode": {
     "languageId": "plaintext"
    }
   },
   "outputs": [],
   "source": [
    "from torch.utils.data import Subset\n",
    "\n",
    "my_dataset = [...]  # 假设这是您的数据集\n",
    "\n",
    "train_indices = list(range(10))\n",
    "test_indices = list(range(len(my_dataset)-10, len(my_dataset)))\n",
    "\n",
    "train_dataset = Subset(my_dataset, train_indices)\n",
    "test_dataset = Subset(my_dataset, test_indices)"
   ]
  },
  {
   "attachments": {},
   "cell_type": "markdown",
   "metadata": {},
   "source": [
    "在上面的例子中，train_dataset包含数据集中的前10个样本，而test_dataset包含数据集中的最后10个样本。\n",
    "\n",
    "## 生成随机的数据集\n",
    "\n",
    "我们知道，在上面例子中，分离的是前半部分的数据集与后半部分的数据集。问题来了，如果我们想要在数据集中随机选择数据作为训练集/测试集呢？\n",
    "\n",
    "很简单，我们只需要处理索引即可。把索引变成随机索引 ⬇️"
   ]
  },
  {
   "cell_type": "code",
   "execution_count": null,
   "metadata": {
    "vscode": {
     "languageId": "plaintext"
    }
   },
   "outputs": [],
   "source": [
    "import random\n",
    "from torch.utils.data import Subset\n",
    "\n",
    "my_dataset = [...]  # 假设这是数据集\n",
    "n_train_samples = 100  # 想要选择的训练样本数量\n",
    "\n",
    "# 生成随机的训练样本索引\n",
    "train_indices = random.sample(range(len(my_dataset)), n_train_samples)\n",
    "\n",
    "# 创建训练集子集\n",
    "train_dataset = Subset(my_dataset, train_indices)\n"
   ]
  },
  {
   "cell_type": "code",
   "execution_count": null,
   "metadata": {
    "vscode": {
     "languageId": "plaintext"
    }
   },
   "outputs": [],
   "source": [
    "在上面的代码中，random.sample(range(len(my_dataset)), n_train_samples)会生成一个包含n_train_samples个随机索引的列表，这些索引在原始数据集中被用于训练模型。\n",
    "\n",
    "请注意，使用随机样本索引训练模型可能会导致模型性能的差异。因此，在使用此方法时，**建议多次随机抽样并比较模型的性能，以获得更准确的结果。**"
   ]
  }
 ],
 "metadata": {
  "language_info": {
   "name": "python"
  },
  "orig_nbformat": 4
 },
 "nbformat": 4,
 "nbformat_minor": 2
}
