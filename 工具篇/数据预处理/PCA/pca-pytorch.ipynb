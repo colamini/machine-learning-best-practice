{
 "cells": [
  {
   "attachments": {},
   "cell_type": "markdown",
   "metadata": {},
   "source": [
    "# Pytorch 实现 PCA\n",
    "PyTorch没有内置的PCA函数，但可以使用numpy的PCA函数结合PyTorch的张量操作来实现PCA。"
   ]
  },
  {
   "attachments": {},
   "cell_type": "markdown",
   "metadata": {},
   "source": [
    "import numpy as np\n",
    "import torch\n",
    "\n",
    "# 定义一个 4 x 3 的随机数据矩阵\n",
    "data = torch.randn(4, 3)\n",
    "\n",
    "# 将数据矩阵转换成 numpy 数组\n",
    "data_numpy = data.numpy()\n",
    "\n",
    "# 计算数据矩阵的协方差矩阵\n",
    "cov_matrix = np.cov(data_numpy.T)\n",
    "\n",
    "# 对协方差矩阵进行特征值分解\n",
    "eigen_values, eigen_vectors = np.linalg.eig(cov_matrix)\n",
    "\n",
    "# 将特征向量作为新的基向量\n",
    "new_basis = torch.from_numpy(eigen_vectors)\n",
    "\n",
    "# 将数据矩阵转换到新的基下\n",
    "data_pca = torch.mm(data, new_basis)\n",
    "\n",
    "# 输出结果\n",
    "print('Original Data:\\n', data)\n",
    "print('PCA Result:\\n', data_pca)\n"
   ]
  },
  {
   "attachments": {},
   "cell_type": "markdown",
   "metadata": {},
   "source": [
    "在这个例子中，我们首先定义了一个随机的数据矩阵，然后将其转换成numpy数组，计算协方差矩阵，对协方差矩阵进行特征值分解，得到特征向量，将特征向量作为新的基向量，最后将数据矩阵转换到新的基下。最后输出原始数据和PCA结果。\n",
    "\n",
    "需要注意的是，PCA操作可能会导致维度的损失。在上面的例子中，我们将一个 4 x 3 的矩阵转换成了一个 3 x 3 的矩阵。因此，当使用PCA时，需要仔细考虑维度的影响。"
   ]
  }
 ],
 "metadata": {
  "language_info": {
   "name": "python"
  },
  "orig_nbformat": 4
 },
 "nbformat": 4,
 "nbformat_minor": 2
}
