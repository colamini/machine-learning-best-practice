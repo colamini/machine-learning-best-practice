{
 "cells": [
  {
   "attachments": {},
   "cell_type": "markdown",
   "metadata": {},
   "source": [
    "# 数据增强\n",
    "\n",
    "> 适用于：样本太少\n",
    "\n",
    "> 方法：旋转、裁切等"
   ]
  },
  {
   "attachments": {},
   "cell_type": "markdown",
   "metadata": {},
   "source": [
    "## keras"
   ]
  },
  {
   "cell_type": "code",
   "execution_count": null,
   "metadata": {},
   "outputs": [],
   "source": [
    "#数据增强\n",
    "from keras.preprocessing.image import ImageDataGenerator\n",
    "path = 'original_data'#图片加强的文件路径\n",
    "dst_path = 'gen_data'\n",
    "datagen = ImageDataGenerator(rotation_range=10,width_shift_range=0.1,height_shift_range=0.02,horizontal_flip=True,\n",
    "                             vertical_flip=True)\n",
    "gen = datagen.flow_from_directory(path,target_size=(224,224),\n",
    "                                 batch_size=2, save_to_dir=dst_path,\n",
    "                                 save_prefix='gen',save_format='jpg')\n",
    "# 生成100张变换后的图片\n",
    "for i in range(100):\n",
    "    gen.next()"
   ]
  },
  {
   "attachments": {},
   "cell_type": "markdown",
   "metadata": {},
   "source": [
    "## PyTorch\n",
    "\n",
    "可以使用torchvision.transforms模块提供的图像变换方法来进行数据增强。这些变换方法可以被应用于训练数据，来增加模型的鲁棒性，同时避免过拟合。"
   ]
  },
  {
   "cell_type": "code",
   "execution_count": null,
   "metadata": {},
   "outputs": [],
   "source": [
    "import torchvision.transforms as transforms\n",
    "from torch.utils.data import DataLoader\n",
    "from torchvision.datasets import ImageFolder\n",
    "\n",
    "# 定义一些数据增强的变换方法\n",
    "transform = transforms.Compose([\n",
    "    transforms.RandomResizedCrop(224),\n",
    "    transforms.RandomHorizontalFlip(),\n",
    "    transforms.ToTensor(),\n",
    "    transforms.Normalize(mean=[0.485, 0.456, 0.406], std=[0.229, 0.224, 0.225])\n",
    "])\n",
    "\n",
    "# 加载数据集\n",
    "train_dataset = ImageFolder('path/to/train/directory', transform=transform)\n",
    "\n",
    "# 创建数据加载器\n",
    "train_loader = DataLoader(train_dataset, batch_size=32, shuffle=True)\n"
   ]
  },
  {
   "cell_type": "markdown",
   "metadata": {},
   "source": [
    "在这个例子中，我们首先定义了一些常见的数据增强方法，如随机裁剪、随机翻转、图像标准化等。然后使用ImageFolder类来加载训练数据集，并将上述定义的变换方法作为参数传递给transform参数。最后，我们使用DataLoader类来创建数据加载器，用于将数据批量加载到模型中进行训练。\n",
    "\n",
    "这只是一个简单的例子，你可以根据你的具体需求自定义不同的数据增强方法。同时，torchvision.transforms模块还提供了其他常用的图像变换方法，如图像旋转、图像裁剪等。"
   ]
  }
 ],
 "metadata": {
  "language_info": {
   "name": "python"
  },
  "orig_nbformat": 4
 },
 "nbformat": 4,
 "nbformat_minor": 2
}
